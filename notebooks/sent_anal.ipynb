{
 "cells": [
  {
   "cell_type": "code",
   "execution_count": 1,
   "metadata": {},
   "outputs": [],
   "source": [
    "import pandas as pd\n",
    "df = pd.read_csv(\"dataset/simple_cat_books.csv\")"
   ]
  },
  {
   "cell_type": "code",
   "execution_count": 2,
   "metadata": {},
   "outputs": [
    {
     "data": {
      "application/vnd.jupyter.widget-view+json": {
       "model_id": "d690d82023744fd495f81abb6f999c3e",
       "version_major": 2,
       "version_minor": 0
      },
      "text/plain": [
       "config.json:   0%|          | 0.00/1.00k [00:00<?, ?B/s]"
      ]
     },
     "metadata": {},
     "output_type": "display_data"
    },
    {
     "data": {
      "application/vnd.jupyter.widget-view+json": {
       "model_id": "863a81acbb32402ab0841fd7134b1273",
       "version_major": 2,
       "version_minor": 0
      },
      "text/plain": [
       "pytorch_model.bin:   0%|          | 0.00/329M [00:00<?, ?B/s]"
      ]
     },
     "metadata": {},
     "output_type": "display_data"
    },
    {
     "data": {
      "application/vnd.jupyter.widget-view+json": {
       "model_id": "effee8414c774c8794219afa83dec07d",
       "version_major": 2,
       "version_minor": 0
      },
      "text/plain": [
       "tokenizer_config.json:   0%|          | 0.00/294 [00:00<?, ?B/s]"
      ]
     },
     "metadata": {},
     "output_type": "display_data"
    },
    {
     "data": {
      "application/vnd.jupyter.widget-view+json": {
       "model_id": "3f50311b677b44ffbcc223acac88e670",
       "version_major": 2,
       "version_minor": 0
      },
      "text/plain": [
       "vocab.json:   0%|          | 0.00/798k [00:00<?, ?B/s]"
      ]
     },
     "metadata": {},
     "output_type": "display_data"
    },
    {
     "data": {
      "application/vnd.jupyter.widget-view+json": {
       "model_id": "40c918f6b69f47708eef20551caa4565",
       "version_major": 2,
       "version_minor": 0
      },
      "text/plain": [
       "merges.txt:   0%|          | 0.00/456k [00:00<?, ?B/s]"
      ]
     },
     "metadata": {},
     "output_type": "display_data"
    },
    {
     "data": {
      "application/vnd.jupyter.widget-view+json": {
       "model_id": "f344b6d6deb44c88b26dfc68d836021e",
       "version_major": 2,
       "version_minor": 0
      },
      "text/plain": [
       "tokenizer.json:   0%|          | 0.00/1.36M [00:00<?, ?B/s]"
      ]
     },
     "metadata": {},
     "output_type": "display_data"
    },
    {
     "data": {
      "application/vnd.jupyter.widget-view+json": {
       "model_id": "62e45b19fe4949f19c5022569ac4c650",
       "version_major": 2,
       "version_minor": 0
      },
      "text/plain": [
       "model.safetensors:   0%|          | 0.00/329M [00:00<?, ?B/s]"
      ]
     },
     "metadata": {},
     "output_type": "display_data"
    },
    {
     "data": {
      "application/vnd.jupyter.widget-view+json": {
       "model_id": "7e085f061be54d0ba61209580db32c69",
       "version_major": 2,
       "version_minor": 0
      },
      "text/plain": [
       "special_tokens_map.json:   0%|          | 0.00/239 [00:00<?, ?B/s]"
      ]
     },
     "metadata": {},
     "output_type": "display_data"
    },
    {
     "name": "stderr",
     "output_type": "stream",
     "text": [
      "Device set to use cpu\n"
     ]
    },
    {
     "data": {
      "text/plain": [
       "[[{'label': 'joy', 'score': 0.9790535569190979},\n",
       "  {'label': 'anger', 'score': 0.006907832808792591},\n",
       "  {'label': 'sadness', 'score': 0.004583415575325489},\n",
       "  {'label': 'surprise', 'score': 0.0045263031497597694},\n",
       "  {'label': 'neutral', 'score': 0.003117529209703207},\n",
       "  {'label': 'disgust', 'score': 0.00117809372022748},\n",
       "  {'label': 'fear', 'score': 0.0006332609336823225}]]"
      ]
     },
     "execution_count": 2,
     "metadata": {},
     "output_type": "execute_result"
    }
   ],
   "source": [
    "from transformers import pipeline\n",
    "classifier = pipeline(\"text-classification\",\n",
    "                      model=\"j-hartmann/emotion-english-distilroberta-base\",\n",
    "                      top_k = None,\n",
    "                      device = \"cpu\")\n",
    "classifier(\"I love my mother to the moon!\")"
   ]
  },
  {
   "cell_type": "code",
   "execution_count": 3,
   "metadata": {},
   "outputs": [
    {
     "data": {
      "text/plain": [
       "'A NOVEL THAT READERS and critics have been eagerly anticipating for over a decade, Gilead is an astonishingly imagined story of remarkable lives. John Ames is a preacher, the son of a preacher and the grandson (both maternal and paternal) of preachers. It’s 1956 in Gilead, Iowa, towards the end of the Reverend Ames’s life, and he is absorbed in recording his family’s story, a legacy for the young son he will never see grow up. Haunted by his grandfather’s presence, John tells of the rift between his grandfather and his father: the elder, an angry visionary who fought for the abolitionist cause, and his son, an ardent pacifist. He is troubled, too, by his prodigal namesake, Jack (John Ames) Boughton, his best friend’s lost son who returns to Gilead searching for forgiveness and redemption. Told in John Ames’s joyous, rambling voice that finds beauty, humour and truth in the smallest of life’s details, Gilead is a song of celebration and acceptance of the best and the worst the world has to offer. At its heart is a tale of the sacred bonds between fathers and sons, pitch-perfect in style and story, set to dazzle critics and readers alike.'"
      ]
     },
     "execution_count": 3,
     "metadata": {},
     "output_type": "execute_result"
    }
   ],
   "source": [
    "df[\"description\"][0]"
   ]
  },
  {
   "cell_type": "code",
   "execution_count": 4,
   "metadata": {},
   "outputs": [
    {
     "data": {
      "text/plain": [
       "[[{'label': 'fear', 'score': 0.6548402905464172},\n",
       "  {'label': 'neutral', 'score': 0.1698523461818695},\n",
       "  {'label': 'sadness', 'score': 0.11640952527523041},\n",
       "  {'label': 'surprise', 'score': 0.02070065587759018},\n",
       "  {'label': 'disgust', 'score': 0.019100749865174294},\n",
       "  {'label': 'joy', 'score': 0.015161360614001751},\n",
       "  {'label': 'anger', 'score': 0.003935151733458042}]]"
      ]
     },
     "execution_count": 4,
     "metadata": {},
     "output_type": "execute_result"
    }
   ],
   "source": [
    "classifier(df[\"description\"][0])"
   ]
  },
  {
   "cell_type": "code",
   "execution_count": 5,
   "metadata": {},
   "outputs": [
    {
     "data": {
      "text/plain": [
       "[[{'label': 'surprise', 'score': 0.729602038860321},\n",
       "  {'label': 'neutral', 'score': 0.14038637280464172},\n",
       "  {'label': 'fear', 'score': 0.06816219538450241},\n",
       "  {'label': 'joy', 'score': 0.047942470759153366},\n",
       "  {'label': 'anger', 'score': 0.009156357496976852},\n",
       "  {'label': 'disgust', 'score': 0.002628476358950138},\n",
       "  {'label': 'sadness', 'score': 0.0021221644710749388}],\n",
       " [{'label': 'neutral', 'score': 0.44937166571617126},\n",
       "  {'label': 'disgust', 'score': 0.273590624332428},\n",
       "  {'label': 'joy', 'score': 0.10908307135105133},\n",
       "  {'label': 'sadness', 'score': 0.09362711012363434},\n",
       "  {'label': 'anger', 'score': 0.04047827422618866},\n",
       "  {'label': 'surprise', 'score': 0.02697024680674076},\n",
       "  {'label': 'fear', 'score': 0.006879054941236973}],\n",
       " [{'label': 'neutral', 'score': 0.6462171673774719},\n",
       "  {'label': 'sadness', 'score': 0.2427321970462799},\n",
       "  {'label': 'disgust', 'score': 0.04342259466648102},\n",
       "  {'label': 'surprise', 'score': 0.02830052375793457},\n",
       "  {'label': 'joy', 'score': 0.01421149168163538},\n",
       "  {'label': 'fear', 'score': 0.014084097929298878},\n",
       "  {'label': 'anger', 'score': 0.011031891219317913}],\n",
       " [{'label': 'fear', 'score': 0.9281687140464783},\n",
       "  {'label': 'anger', 'score': 0.03219049796462059},\n",
       "  {'label': 'neutral', 'score': 0.012808642350137234},\n",
       "  {'label': 'sadness', 'score': 0.0087568499147892},\n",
       "  {'label': 'surprise', 'score': 0.008597880601882935},\n",
       "  {'label': 'disgust', 'score': 0.008431791327893734},\n",
       "  {'label': 'joy', 'score': 0.0010455799056217074}],\n",
       " [{'label': 'sadness', 'score': 0.9671575427055359},\n",
       "  {'label': 'neutral', 'score': 0.015104170888662338},\n",
       "  {'label': 'disgust', 'score': 0.00648059556260705},\n",
       "  {'label': 'fear', 'score': 0.005394000560045242},\n",
       "  {'label': 'surprise', 'score': 0.0022869433742016554},\n",
       "  {'label': 'anger', 'score': 0.0018428886542096734},\n",
       "  {'label': 'joy', 'score': 0.0017338789766654372}],\n",
       " [{'label': 'joy', 'score': 0.9327975511550903},\n",
       "  {'label': 'disgust', 'score': 0.0377175509929657},\n",
       "  {'label': 'neutral', 'score': 0.0158919058740139},\n",
       "  {'label': 'sadness', 'score': 0.006444541737437248},\n",
       "  {'label': 'anger', 'score': 0.00502501055598259},\n",
       "  {'label': 'surprise', 'score': 0.0015812101773917675},\n",
       "  {'label': 'fear', 'score': 0.0005423090187832713}],\n",
       " [{'label': 'joy', 'score': 0.6528702974319458},\n",
       "  {'label': 'neutral', 'score': 0.25427505373954773},\n",
       "  {'label': 'surprise', 'score': 0.06808309257030487},\n",
       "  {'label': 'sadness', 'score': 0.009908987209200859},\n",
       "  {'label': 'disgust', 'score': 0.006512193009257317},\n",
       "  {'label': 'anger', 'score': 0.004821305628865957},\n",
       "  {'label': 'fear', 'score': 0.0035290077794343233}],\n",
       " [{'label': 'neutral', 'score': 0.5494768023490906},\n",
       "  {'label': 'sadness', 'score': 0.11169014871120453},\n",
       "  {'label': 'disgust', 'score': 0.10400664061307907},\n",
       "  {'label': 'surprise', 'score': 0.07876554876565933},\n",
       "  {'label': 'anger', 'score': 0.06413359940052032},\n",
       "  {'label': 'fear', 'score': 0.05136280134320259},\n",
       "  {'label': 'joy', 'score': 0.04056441783905029}]]"
      ]
     },
     "execution_count": 5,
     "metadata": {},
     "output_type": "execute_result"
    }
   ],
   "source": [
    "classifier(df[\"description\"][0].split(\".\"))"
   ]
  },
  {
   "cell_type": "code",
   "execution_count": 6,
   "metadata": {},
   "outputs": [],
   "source": [
    "sentences = df[\"description\"][0].split(\".\")\n",
    "predictions = classifier(sentences)"
   ]
  },
  {
   "cell_type": "code",
   "execution_count": 7,
   "metadata": {},
   "outputs": [
    {
     "data": {
      "text/plain": [
       "'A NOVEL THAT READERS and critics have been eagerly anticipating for over a decade, Gilead is an astonishingly imagined story of remarkable lives'"
      ]
     },
     "execution_count": 7,
     "metadata": {},
     "output_type": "execute_result"
    }
   ],
   "source": [
    "sentences[0]"
   ]
  },
  {
   "cell_type": "code",
   "execution_count": 8,
   "metadata": {},
   "outputs": [
    {
     "data": {
      "text/plain": [
       "[{'label': 'surprise', 'score': 0.729602038860321},\n",
       " {'label': 'neutral', 'score': 0.14038637280464172},\n",
       " {'label': 'fear', 'score': 0.06816219538450241},\n",
       " {'label': 'joy', 'score': 0.047942470759153366},\n",
       " {'label': 'anger', 'score': 0.009156357496976852},\n",
       " {'label': 'disgust', 'score': 0.002628476358950138},\n",
       " {'label': 'sadness', 'score': 0.0021221644710749388}]"
      ]
     },
     "execution_count": 8,
     "metadata": {},
     "output_type": "execute_result"
    }
   ],
   "source": [
    "predictions[0]"
   ]
  },
  {
   "cell_type": "code",
   "execution_count": 9,
   "metadata": {},
   "outputs": [
    {
     "data": {
      "text/plain": [
       "' It’s 1956 in Gilead, Iowa, towards the end of the Reverend Ames’s life, and he is absorbed in recording his family’s story, a legacy for the young son he will never see grow up'"
      ]
     },
     "execution_count": 9,
     "metadata": {},
     "output_type": "execute_result"
    }
   ],
   "source": [
    "sentences[2]"
   ]
  },
  {
   "cell_type": "code",
   "execution_count": 10,
   "metadata": {},
   "outputs": [
    {
     "data": {
      "text/plain": [
       "[{'label': 'neutral', 'score': 0.6462171673774719},\n",
       " {'label': 'sadness', 'score': 0.2427321970462799},\n",
       " {'label': 'disgust', 'score': 0.04342259466648102},\n",
       " {'label': 'surprise', 'score': 0.02830052375793457},\n",
       " {'label': 'joy', 'score': 0.01421149168163538},\n",
       " {'label': 'fear', 'score': 0.014084097929298878},\n",
       " {'label': 'anger', 'score': 0.011031891219317913}]"
      ]
     },
     "execution_count": 10,
     "metadata": {},
     "output_type": "execute_result"
    }
   ],
   "source": [
    "predictions[2]"
   ]
  },
  {
   "cell_type": "code",
   "execution_count": 11,
   "metadata": {},
   "outputs": [
    {
     "data": {
      "text/plain": [
       "[[{'label': 'surprise', 'score': 0.729602038860321},\n",
       "  {'label': 'neutral', 'score': 0.14038637280464172},\n",
       "  {'label': 'fear', 'score': 0.06816219538450241},\n",
       "  {'label': 'joy', 'score': 0.047942470759153366},\n",
       "  {'label': 'anger', 'score': 0.009156357496976852},\n",
       "  {'label': 'disgust', 'score': 0.002628476358950138},\n",
       "  {'label': 'sadness', 'score': 0.0021221644710749388}],\n",
       " [{'label': 'neutral', 'score': 0.44937166571617126},\n",
       "  {'label': 'disgust', 'score': 0.273590624332428},\n",
       "  {'label': 'joy', 'score': 0.10908307135105133},\n",
       "  {'label': 'sadness', 'score': 0.09362711012363434},\n",
       "  {'label': 'anger', 'score': 0.04047827422618866},\n",
       "  {'label': 'surprise', 'score': 0.02697024680674076},\n",
       "  {'label': 'fear', 'score': 0.006879054941236973}],\n",
       " [{'label': 'neutral', 'score': 0.6462171673774719},\n",
       "  {'label': 'sadness', 'score': 0.2427321970462799},\n",
       "  {'label': 'disgust', 'score': 0.04342259466648102},\n",
       "  {'label': 'surprise', 'score': 0.02830052375793457},\n",
       "  {'label': 'joy', 'score': 0.01421149168163538},\n",
       "  {'label': 'fear', 'score': 0.014084097929298878},\n",
       "  {'label': 'anger', 'score': 0.011031891219317913}],\n",
       " [{'label': 'fear', 'score': 0.9281687140464783},\n",
       "  {'label': 'anger', 'score': 0.03219049796462059},\n",
       "  {'label': 'neutral', 'score': 0.012808642350137234},\n",
       "  {'label': 'sadness', 'score': 0.0087568499147892},\n",
       "  {'label': 'surprise', 'score': 0.008597880601882935},\n",
       "  {'label': 'disgust', 'score': 0.008431791327893734},\n",
       "  {'label': 'joy', 'score': 0.0010455799056217074}],\n",
       " [{'label': 'sadness', 'score': 0.9671575427055359},\n",
       "  {'label': 'neutral', 'score': 0.015104170888662338},\n",
       "  {'label': 'disgust', 'score': 0.00648059556260705},\n",
       "  {'label': 'fear', 'score': 0.005394000560045242},\n",
       "  {'label': 'surprise', 'score': 0.0022869433742016554},\n",
       "  {'label': 'anger', 'score': 0.0018428886542096734},\n",
       "  {'label': 'joy', 'score': 0.0017338789766654372}],\n",
       " [{'label': 'joy', 'score': 0.9327975511550903},\n",
       "  {'label': 'disgust', 'score': 0.0377175509929657},\n",
       "  {'label': 'neutral', 'score': 0.0158919058740139},\n",
       "  {'label': 'sadness', 'score': 0.006444541737437248},\n",
       "  {'label': 'anger', 'score': 0.00502501055598259},\n",
       "  {'label': 'surprise', 'score': 0.0015812101773917675},\n",
       "  {'label': 'fear', 'score': 0.0005423090187832713}],\n",
       " [{'label': 'joy', 'score': 0.6528702974319458},\n",
       "  {'label': 'neutral', 'score': 0.25427505373954773},\n",
       "  {'label': 'surprise', 'score': 0.06808309257030487},\n",
       "  {'label': 'sadness', 'score': 0.009908987209200859},\n",
       "  {'label': 'disgust', 'score': 0.006512193009257317},\n",
       "  {'label': 'anger', 'score': 0.004821305628865957},\n",
       "  {'label': 'fear', 'score': 0.0035290077794343233}],\n",
       " [{'label': 'neutral', 'score': 0.5494768023490906},\n",
       "  {'label': 'sadness', 'score': 0.11169014871120453},\n",
       "  {'label': 'disgust', 'score': 0.10400664061307907},\n",
       "  {'label': 'surprise', 'score': 0.07876554876565933},\n",
       "  {'label': 'anger', 'score': 0.06413359940052032},\n",
       "  {'label': 'fear', 'score': 0.05136280134320259},\n",
       "  {'label': 'joy', 'score': 0.04056441783905029}]]"
      ]
     },
     "execution_count": 11,
     "metadata": {},
     "output_type": "execute_result"
    }
   ],
   "source": [
    "predictions"
   ]
  },
  {
   "cell_type": "code",
   "execution_count": 12,
   "metadata": {},
   "outputs": [],
   "source": [
    "import numpy as np\n",
    "\n",
    "emotion_labels = [\"anger\", \"disgust\", \"fear\", \"joy\", \"sadness\", \"surprise\", \"neutral\"]\n",
    "isbn = []\n",
    "emo_scores = {label: [] for label in emotion_labels}\n",
    "\n",
    "def calculate_max_emotion_scores(predictions):\n",
    "    per_emo_scores = {label: [] for label in emotion_labels}\n",
    "    for prediction in predictions:\n",
    "        sorted_predictions = sorted(prediction, key=lambda x: x[\"label\"])\n",
    "        for index, label in enumerate(emotion_labels):\n",
    "            per_emo_scores[label].append(sorted_predictions[index][\"score\"])\n",
    "    return {label: np.max(scores) for label, scores in per_emo_scores.items()}"
   ]
  },
  {
   "cell_type": "code",
   "execution_count": 13,
   "metadata": {},
   "outputs": [],
   "source": [
    "for i in range(10):\n",
    "    isbn.append(df[\"isbn13\"][i])\n",
    "    sentences = df[\"description\"][i].split(\".\")\n",
    "    predictions = classifier(sentences)\n",
    "    max_scores = calculate_max_emotion_scores(predictions)\n",
    "    for label in emotion_labels:\n",
    "        emo_scores[label].append(max_scores[label])"
   ]
  },
  {
   "cell_type": "code",
   "execution_count": 14,
   "metadata": {},
   "outputs": [
    {
     "data": {
      "text/plain": [
       "{'anger': [0.06413359940052032,\n",
       "  0.06413359940052032,\n",
       "  0.3006693422794342,\n",
       "  0.06683328002691269,\n",
       "  0.07324787229299545,\n",
       "  0.38594770431518555,\n",
       "  0.5385042428970337,\n",
       "  0.17391513288021088,\n",
       "  0.2697989046573639,\n",
       "  0.06413359940052032],\n",
       " 'disgust': [0.273590624332428,\n",
       "  0.10400664061307907,\n",
       "  0.2794814109802246,\n",
       "  0.10400664061307907,\n",
       "  0.025494640693068504,\n",
       "  0.6293255686759949,\n",
       "  0.48482707142829895,\n",
       "  0.19119331240653992,\n",
       "  0.11665893346071243,\n",
       "  0.10400664061307907],\n",
       " 'fear': [0.9281687140464783,\n",
       "  0.9723208546638489,\n",
       "  0.9155242443084717,\n",
       "  0.05136280134320259,\n",
       "  0.5727607607841492,\n",
       "  0.9770892262458801,\n",
       "  0.9847143292427063,\n",
       "  0.32488805055618286,\n",
       "  0.22548706829547882,\n",
       "  0.9847943186759949],\n",
       " 'joy': [0.9327975511550903,\n",
       "  0.7672374248504639,\n",
       "  0.04056441783905029,\n",
       "  0.9748926162719727,\n",
       "  0.04078742116689682,\n",
       "  0.8364301919937134,\n",
       "  0.16386660933494568,\n",
       "  0.1607440561056137,\n",
       "  0.7223421335220337,\n",
       "  0.8798818588256836],\n",
       " 'sadness': [0.6462171673774719,\n",
       "  0.5494768023490906,\n",
       "  0.8402896523475647,\n",
       "  0.779425323009491,\n",
       "  0.18382582068443298,\n",
       "  0.5576526522636414,\n",
       "  0.6941540837287903,\n",
       "  0.9506474137306213,\n",
       "  0.5494768023490906,\n",
       "  0.5494768023490906],\n",
       " 'surprise': [0.9671575427055359,\n",
       "  0.11169014871120453,\n",
       "  0.3544600009918213,\n",
       "  0.8887987732887268,\n",
       "  0.9378604292869568,\n",
       "  0.7609442472457886,\n",
       "  0.315597802400589,\n",
       "  0.7165486812591553,\n",
       "  0.9659258127212524,\n",
       "  0.11169014871120453],\n",
       " 'neutral': [0.729602038860321,\n",
       "  0.07876554876565933,\n",
       "  0.13561394810676575,\n",
       "  0.28830432891845703,\n",
       "  0.10517037659883499,\n",
       "  0.07876554876565933,\n",
       "  0.08060000091791153,\n",
       "  0.08485300838947296,\n",
       "  0.08703968673944473,\n",
       "  0.07876554876565933]}"
      ]
     },
     "execution_count": 14,
     "metadata": {},
     "output_type": "execute_result"
    }
   ],
   "source": [
    "emo_scores"
   ]
  },
  {
   "cell_type": "code",
   "execution_count": 15,
   "metadata": {},
   "outputs": [
    {
     "name": "stderr",
     "output_type": "stream",
     "text": [
      "100%|██████████| 3743/3743 [08:20<00:00,  7.47it/s]\n"
     ]
    }
   ],
   "source": [
    "from tqdm import tqdm\n",
    "\n",
    "emotion_labels = [\"anger\", \"disgust\", \"fear\", \"joy\", \"sadness\", \"surprise\", \"neutral\"]\n",
    "isbn = []\n",
    "emotion_scores = {label: [] for label in emotion_labels}\n",
    "\n",
    "for i in tqdm(range(len(df))):\n",
    "    isbn.append(df[\"isbn13\"][i])\n",
    "    sentences = df[\"description\"][i].split(\".\")\n",
    "    predictions = classifier(sentences)\n",
    "    max_scores = calculate_max_emotion_scores(predictions)\n",
    "    for label in emotion_labels:\n",
    "        emotion_scores[label].append(max_scores[label])"
   ]
  },
  {
   "cell_type": "code",
   "execution_count": 16,
   "metadata": {},
   "outputs": [],
   "source": [
    "emos = pd.DataFrame(emotion_scores)\n",
    "emos[\"isbn13\"] = isbn"
   ]
  },
  {
   "cell_type": "code",
   "execution_count": 17,
   "metadata": {},
   "outputs": [
    {
     "data": {
      "text/html": [
       "<div>\n",
       "<style scoped>\n",
       "    .dataframe tbody tr th:only-of-type {\n",
       "        vertical-align: middle;\n",
       "    }\n",
       "\n",
       "    .dataframe tbody tr th {\n",
       "        vertical-align: top;\n",
       "    }\n",
       "\n",
       "    .dataframe thead th {\n",
       "        text-align: right;\n",
       "    }\n",
       "</style>\n",
       "<table border=\"1\" class=\"dataframe\">\n",
       "  <thead>\n",
       "    <tr style=\"text-align: right;\">\n",
       "      <th></th>\n",
       "      <th>anger</th>\n",
       "      <th>disgust</th>\n",
       "      <th>fear</th>\n",
       "      <th>joy</th>\n",
       "      <th>sadness</th>\n",
       "      <th>surprise</th>\n",
       "      <th>neutral</th>\n",
       "      <th>isbn13</th>\n",
       "    </tr>\n",
       "  </thead>\n",
       "  <tbody>\n",
       "    <tr>\n",
       "      <th>0</th>\n",
       "      <td>0.064134</td>\n",
       "      <td>0.273591</td>\n",
       "      <td>0.928169</td>\n",
       "      <td>0.932798</td>\n",
       "      <td>0.646217</td>\n",
       "      <td>0.967158</td>\n",
       "      <td>0.729602</td>\n",
       "      <td>9780002005883</td>\n",
       "    </tr>\n",
       "    <tr>\n",
       "      <th>1</th>\n",
       "      <td>0.064134</td>\n",
       "      <td>0.104007</td>\n",
       "      <td>0.972321</td>\n",
       "      <td>0.767237</td>\n",
       "      <td>0.549477</td>\n",
       "      <td>0.111690</td>\n",
       "      <td>0.078766</td>\n",
       "      <td>9780006178736</td>\n",
       "    </tr>\n",
       "    <tr>\n",
       "      <th>2</th>\n",
       "      <td>0.300669</td>\n",
       "      <td>0.279481</td>\n",
       "      <td>0.915524</td>\n",
       "      <td>0.040564</td>\n",
       "      <td>0.840290</td>\n",
       "      <td>0.354460</td>\n",
       "      <td>0.135614</td>\n",
       "      <td>9780006482079</td>\n",
       "    </tr>\n",
       "    <tr>\n",
       "      <th>3</th>\n",
       "      <td>0.066833</td>\n",
       "      <td>0.104007</td>\n",
       "      <td>0.051363</td>\n",
       "      <td>0.974893</td>\n",
       "      <td>0.779425</td>\n",
       "      <td>0.888799</td>\n",
       "      <td>0.288304</td>\n",
       "      <td>9780006646006</td>\n",
       "    </tr>\n",
       "    <tr>\n",
       "      <th>4</th>\n",
       "      <td>0.073248</td>\n",
       "      <td>0.025495</td>\n",
       "      <td>0.572761</td>\n",
       "      <td>0.040787</td>\n",
       "      <td>0.183826</td>\n",
       "      <td>0.937860</td>\n",
       "      <td>0.105170</td>\n",
       "      <td>9780007121014</td>\n",
       "    </tr>\n",
       "    <tr>\n",
       "      <th>...</th>\n",
       "      <td>...</td>\n",
       "      <td>...</td>\n",
       "      <td>...</td>\n",
       "      <td>...</td>\n",
       "      <td>...</td>\n",
       "      <td>...</td>\n",
       "      <td>...</td>\n",
       "      <td>...</td>\n",
       "    </tr>\n",
       "    <tr>\n",
       "      <th>3738</th>\n",
       "      <td>0.042557</td>\n",
       "      <td>0.087105</td>\n",
       "      <td>0.940994</td>\n",
       "      <td>0.152235</td>\n",
       "      <td>0.847774</td>\n",
       "      <td>0.611608</td>\n",
       "      <td>0.115628</td>\n",
       "      <td>9781933648279</td>\n",
       "    </tr>\n",
       "    <tr>\n",
       "      <th>3739</th>\n",
       "      <td>0.956607</td>\n",
       "      <td>0.104007</td>\n",
       "      <td>0.051363</td>\n",
       "      <td>0.040564</td>\n",
       "      <td>0.549477</td>\n",
       "      <td>0.111690</td>\n",
       "      <td>0.078766</td>\n",
       "      <td>9784770028969</td>\n",
       "    </tr>\n",
       "    <tr>\n",
       "      <th>3740</th>\n",
       "      <td>0.541744</td>\n",
       "      <td>0.226291</td>\n",
       "      <td>0.305921</td>\n",
       "      <td>0.040564</td>\n",
       "      <td>0.594005</td>\n",
       "      <td>0.111690</td>\n",
       "      <td>0.078766</td>\n",
       "      <td>9788122200850</td>\n",
       "    </tr>\n",
       "    <tr>\n",
       "      <th>3741</th>\n",
       "      <td>0.064134</td>\n",
       "      <td>0.104007</td>\n",
       "      <td>0.459269</td>\n",
       "      <td>0.759456</td>\n",
       "      <td>0.951104</td>\n",
       "      <td>0.368111</td>\n",
       "      <td>0.078766</td>\n",
       "      <td>9788185300535</td>\n",
       "    </tr>\n",
       "    <tr>\n",
       "      <th>3742</th>\n",
       "      <td>0.064134</td>\n",
       "      <td>0.104007</td>\n",
       "      <td>0.051363</td>\n",
       "      <td>0.958549</td>\n",
       "      <td>0.915193</td>\n",
       "      <td>0.111690</td>\n",
       "      <td>0.078766</td>\n",
       "      <td>9789027712059</td>\n",
       "    </tr>\n",
       "  </tbody>\n",
       "</table>\n",
       "<p>3743 rows × 8 columns</p>\n",
       "</div>"
      ],
      "text/plain": [
       "         anger   disgust      fear       joy   sadness  surprise   neutral  \\\n",
       "0     0.064134  0.273591  0.928169  0.932798  0.646217  0.967158  0.729602   \n",
       "1     0.064134  0.104007  0.972321  0.767237  0.549477  0.111690  0.078766   \n",
       "2     0.300669  0.279481  0.915524  0.040564  0.840290  0.354460  0.135614   \n",
       "3     0.066833  0.104007  0.051363  0.974893  0.779425  0.888799  0.288304   \n",
       "4     0.073248  0.025495  0.572761  0.040787  0.183826  0.937860  0.105170   \n",
       "...        ...       ...       ...       ...       ...       ...       ...   \n",
       "3738  0.042557  0.087105  0.940994  0.152235  0.847774  0.611608  0.115628   \n",
       "3739  0.956607  0.104007  0.051363  0.040564  0.549477  0.111690  0.078766   \n",
       "3740  0.541744  0.226291  0.305921  0.040564  0.594005  0.111690  0.078766   \n",
       "3741  0.064134  0.104007  0.459269  0.759456  0.951104  0.368111  0.078766   \n",
       "3742  0.064134  0.104007  0.051363  0.958549  0.915193  0.111690  0.078766   \n",
       "\n",
       "             isbn13  \n",
       "0     9780002005883  \n",
       "1     9780006178736  \n",
       "2     9780006482079  \n",
       "3     9780006646006  \n",
       "4     9780007121014  \n",
       "...             ...  \n",
       "3738  9781933648279  \n",
       "3739  9784770028969  \n",
       "3740  9788122200850  \n",
       "3741  9788185300535  \n",
       "3742  9789027712059  \n",
       "\n",
       "[3743 rows x 8 columns]"
      ]
     },
     "execution_count": 17,
     "metadata": {},
     "output_type": "execute_result"
    }
   ],
   "source": [
    "emos"
   ]
  },
  {
   "cell_type": "code",
   "execution_count": 18,
   "metadata": {},
   "outputs": [],
   "source": [
    "df = pd.merge(df, emos, on = \"isbn13\")"
   ]
  },
  {
   "cell_type": "code",
   "execution_count": 19,
   "metadata": {},
   "outputs": [
    {
     "data": {
      "text/html": [
       "<div>\n",
       "<style scoped>\n",
       "    .dataframe tbody tr th:only-of-type {\n",
       "        vertical-align: middle;\n",
       "    }\n",
       "\n",
       "    .dataframe tbody tr th {\n",
       "        vertical-align: top;\n",
       "    }\n",
       "\n",
       "    .dataframe thead th {\n",
       "        text-align: right;\n",
       "    }\n",
       "</style>\n",
       "<table border=\"1\" class=\"dataframe\">\n",
       "  <thead>\n",
       "    <tr style=\"text-align: right;\">\n",
       "      <th></th>\n",
       "      <th>isbn13</th>\n",
       "      <th>isbn10</th>\n",
       "      <th>title</th>\n",
       "      <th>authors</th>\n",
       "      <th>categories</th>\n",
       "      <th>thumbnail</th>\n",
       "      <th>description</th>\n",
       "      <th>published_year</th>\n",
       "      <th>average_rating</th>\n",
       "      <th>num_pages</th>\n",
       "      <th>...</th>\n",
       "      <th>title_and_subtitle</th>\n",
       "      <th>tagged_description</th>\n",
       "      <th>simple_categories</th>\n",
       "      <th>anger</th>\n",
       "      <th>disgust</th>\n",
       "      <th>fear</th>\n",
       "      <th>joy</th>\n",
       "      <th>sadness</th>\n",
       "      <th>surprise</th>\n",
       "      <th>neutral</th>\n",
       "    </tr>\n",
       "  </thead>\n",
       "  <tbody>\n",
       "    <tr>\n",
       "      <th>0</th>\n",
       "      <td>9780002005883</td>\n",
       "      <td>0002005883</td>\n",
       "      <td>Gilead</td>\n",
       "      <td>Marilynne Robinson</td>\n",
       "      <td>Fiction</td>\n",
       "      <td>http://books.google.com/books/content?id=KQZCP...</td>\n",
       "      <td>A NOVEL THAT READERS and critics have been eag...</td>\n",
       "      <td>2004.0</td>\n",
       "      <td>3.85</td>\n",
       "      <td>247.0</td>\n",
       "      <td>...</td>\n",
       "      <td>Gilead</td>\n",
       "      <td>9780002005883 A NOVEL THAT READERS and critics...</td>\n",
       "      <td>Fiction</td>\n",
       "      <td>0.064134</td>\n",
       "      <td>0.273591</td>\n",
       "      <td>0.928169</td>\n",
       "      <td>0.932798</td>\n",
       "      <td>0.646217</td>\n",
       "      <td>0.967158</td>\n",
       "      <td>0.729602</td>\n",
       "    </tr>\n",
       "    <tr>\n",
       "      <th>1</th>\n",
       "      <td>9780006178736</td>\n",
       "      <td>0006178731</td>\n",
       "      <td>Rage of angels</td>\n",
       "      <td>Sidney Sheldon</td>\n",
       "      <td>Fiction</td>\n",
       "      <td>http://books.google.com/books/content?id=FKo2T...</td>\n",
       "      <td>A memorable, mesmerizing heroine Jennifer -- b...</td>\n",
       "      <td>1993.0</td>\n",
       "      <td>3.93</td>\n",
       "      <td>512.0</td>\n",
       "      <td>...</td>\n",
       "      <td>Rage of angels</td>\n",
       "      <td>9780006178736 A memorable, mesmerizing heroine...</td>\n",
       "      <td>Fiction</td>\n",
       "      <td>0.064134</td>\n",
       "      <td>0.104007</td>\n",
       "      <td>0.972321</td>\n",
       "      <td>0.767237</td>\n",
       "      <td>0.549477</td>\n",
       "      <td>0.111690</td>\n",
       "      <td>0.078766</td>\n",
       "    </tr>\n",
       "    <tr>\n",
       "      <th>2</th>\n",
       "      <td>9780006482079</td>\n",
       "      <td>0006482074</td>\n",
       "      <td>Warhost of Vastmark</td>\n",
       "      <td>Janny Wurts</td>\n",
       "      <td>Fiction</td>\n",
       "      <td>http://books.google.com/books/content?id=uOL0f...</td>\n",
       "      <td>Tricked once more by his wily half-brother, Ly...</td>\n",
       "      <td>1995.0</td>\n",
       "      <td>4.03</td>\n",
       "      <td>522.0</td>\n",
       "      <td>...</td>\n",
       "      <td>Warhost of Vastmark</td>\n",
       "      <td>9780006482079 Tricked once more by his wily ha...</td>\n",
       "      <td>Fiction</td>\n",
       "      <td>0.300669</td>\n",
       "      <td>0.279481</td>\n",
       "      <td>0.915524</td>\n",
       "      <td>0.040564</td>\n",
       "      <td>0.840290</td>\n",
       "      <td>0.354460</td>\n",
       "      <td>0.135614</td>\n",
       "    </tr>\n",
       "    <tr>\n",
       "      <th>3</th>\n",
       "      <td>9780006646006</td>\n",
       "      <td>000664600X</td>\n",
       "      <td>Ocean Star Express</td>\n",
       "      <td>Mark Haddon;Peter Sutton</td>\n",
       "      <td>Juvenile Fiction</td>\n",
       "      <td>http://books.google.com/books/content?id=I2QZA...</td>\n",
       "      <td>Joe and his parents are enjoying a summer holi...</td>\n",
       "      <td>2002.0</td>\n",
       "      <td>3.50</td>\n",
       "      <td>32.0</td>\n",
       "      <td>...</td>\n",
       "      <td>Ocean Star Express</td>\n",
       "      <td>9780006646006 Joe and his parents are enjoying...</td>\n",
       "      <td>Fiction</td>\n",
       "      <td>0.066833</td>\n",
       "      <td>0.104007</td>\n",
       "      <td>0.051363</td>\n",
       "      <td>0.974893</td>\n",
       "      <td>0.779425</td>\n",
       "      <td>0.888799</td>\n",
       "      <td>0.288304</td>\n",
       "    </tr>\n",
       "    <tr>\n",
       "      <th>4</th>\n",
       "      <td>9780007121014</td>\n",
       "      <td>0007121016</td>\n",
       "      <td>Taken at the Flood</td>\n",
       "      <td>Agatha Christie</td>\n",
       "      <td>Fiction</td>\n",
       "      <td>http://books.google.com/books/content?id=3gWlx...</td>\n",
       "      <td>A Few Weeks After Marrying An Attractive Young...</td>\n",
       "      <td>2002.0</td>\n",
       "      <td>3.71</td>\n",
       "      <td>352.0</td>\n",
       "      <td>...</td>\n",
       "      <td>Taken at the Flood</td>\n",
       "      <td>9780007121014 A Few Weeks After Marrying An At...</td>\n",
       "      <td>Fiction</td>\n",
       "      <td>0.073248</td>\n",
       "      <td>0.025495</td>\n",
       "      <td>0.572761</td>\n",
       "      <td>0.040787</td>\n",
       "      <td>0.183826</td>\n",
       "      <td>0.937860</td>\n",
       "      <td>0.105170</td>\n",
       "    </tr>\n",
       "    <tr>\n",
       "      <th>...</th>\n",
       "      <td>...</td>\n",
       "      <td>...</td>\n",
       "      <td>...</td>\n",
       "      <td>...</td>\n",
       "      <td>...</td>\n",
       "      <td>...</td>\n",
       "      <td>...</td>\n",
       "      <td>...</td>\n",
       "      <td>...</td>\n",
       "      <td>...</td>\n",
       "      <td>...</td>\n",
       "      <td>...</td>\n",
       "      <td>...</td>\n",
       "      <td>...</td>\n",
       "      <td>...</td>\n",
       "      <td>...</td>\n",
       "      <td>...</td>\n",
       "      <td>...</td>\n",
       "      <td>...</td>\n",
       "      <td>...</td>\n",
       "      <td>...</td>\n",
       "    </tr>\n",
       "    <tr>\n",
       "      <th>3738</th>\n",
       "      <td>9781933648279</td>\n",
       "      <td>1933648279</td>\n",
       "      <td>Night Has a Thousand Eyes</td>\n",
       "      <td>Cornell Woolrich</td>\n",
       "      <td>Fiction</td>\n",
       "      <td>http://books.google.com/books/content?id=3Gk6s...</td>\n",
       "      <td>\"Cornell Woolrich's novels define the essence ...</td>\n",
       "      <td>2007.0</td>\n",
       "      <td>3.77</td>\n",
       "      <td>344.0</td>\n",
       "      <td>...</td>\n",
       "      <td>Night Has a Thousand Eyes</td>\n",
       "      <td>9781933648279 \"Cornell Woolrich's novels defin...</td>\n",
       "      <td>Fiction</td>\n",
       "      <td>0.042557</td>\n",
       "      <td>0.087105</td>\n",
       "      <td>0.940994</td>\n",
       "      <td>0.152235</td>\n",
       "      <td>0.847774</td>\n",
       "      <td>0.611608</td>\n",
       "      <td>0.115628</td>\n",
       "    </tr>\n",
       "    <tr>\n",
       "      <th>3739</th>\n",
       "      <td>9784770028969</td>\n",
       "      <td>4770028962</td>\n",
       "      <td>Coin Locker Babies</td>\n",
       "      <td>村上龍</td>\n",
       "      <td>Fiction</td>\n",
       "      <td>http://books.google.com/books/content?id=87DJw...</td>\n",
       "      <td>Rescued from the lockers in which they were le...</td>\n",
       "      <td>2002.0</td>\n",
       "      <td>3.75</td>\n",
       "      <td>393.0</td>\n",
       "      <td>...</td>\n",
       "      <td>Coin Locker Babies</td>\n",
       "      <td>9784770028969 Rescued from the lockers in whic...</td>\n",
       "      <td>Fiction</td>\n",
       "      <td>0.956607</td>\n",
       "      <td>0.104007</td>\n",
       "      <td>0.051363</td>\n",
       "      <td>0.040564</td>\n",
       "      <td>0.549477</td>\n",
       "      <td>0.111690</td>\n",
       "      <td>0.078766</td>\n",
       "    </tr>\n",
       "    <tr>\n",
       "      <th>3740</th>\n",
       "      <td>9788122200850</td>\n",
       "      <td>8122200850</td>\n",
       "      <td>Cry, the Peacock</td>\n",
       "      <td>Anita Desai</td>\n",
       "      <td>Fiction</td>\n",
       "      <td>http://books.google.com/books/content?id=_QKwV...</td>\n",
       "      <td>This book is the story of a young girl obsesse...</td>\n",
       "      <td>1980.0</td>\n",
       "      <td>3.22</td>\n",
       "      <td>218.0</td>\n",
       "      <td>...</td>\n",
       "      <td>Cry, the Peacock</td>\n",
       "      <td>9788122200850 This book is the story of a youn...</td>\n",
       "      <td>Fiction</td>\n",
       "      <td>0.541744</td>\n",
       "      <td>0.226291</td>\n",
       "      <td>0.305921</td>\n",
       "      <td>0.040564</td>\n",
       "      <td>0.594005</td>\n",
       "      <td>0.111690</td>\n",
       "      <td>0.078766</td>\n",
       "    </tr>\n",
       "    <tr>\n",
       "      <th>3741</th>\n",
       "      <td>9788185300535</td>\n",
       "      <td>8185300534</td>\n",
       "      <td>I Am that</td>\n",
       "      <td>Sri Nisargadatta Maharaj;Sudhakar S. Dikshit</td>\n",
       "      <td>Philosophy</td>\n",
       "      <td>http://books.google.com/books/content?id=Fv_JP...</td>\n",
       "      <td>This collection of the timeless teachings of o...</td>\n",
       "      <td>1999.0</td>\n",
       "      <td>4.51</td>\n",
       "      <td>531.0</td>\n",
       "      <td>...</td>\n",
       "      <td>I Am that: Talks with Sri Nisargadatta Maharaj</td>\n",
       "      <td>9788185300535 This collection of the timeless ...</td>\n",
       "      <td>Nonfiction</td>\n",
       "      <td>0.064134</td>\n",
       "      <td>0.104007</td>\n",
       "      <td>0.459269</td>\n",
       "      <td>0.759456</td>\n",
       "      <td>0.951104</td>\n",
       "      <td>0.368111</td>\n",
       "      <td>0.078766</td>\n",
       "    </tr>\n",
       "    <tr>\n",
       "      <th>3742</th>\n",
       "      <td>9789027712059</td>\n",
       "      <td>9027712050</td>\n",
       "      <td>The Berlin Phenomenology</td>\n",
       "      <td>Georg Wilhelm Friedrich Hegel</td>\n",
       "      <td>History</td>\n",
       "      <td>http://books.google.com/books/content?id=Vy7Sk...</td>\n",
       "      <td>Since the three volume edition ofHegel's Philo...</td>\n",
       "      <td>1981.0</td>\n",
       "      <td>0.00</td>\n",
       "      <td>210.0</td>\n",
       "      <td>...</td>\n",
       "      <td>The Berlin Phenomenology</td>\n",
       "      <td>9789027712059 Since the three volume edition o...</td>\n",
       "      <td>Nonfiction</td>\n",
       "      <td>0.064134</td>\n",
       "      <td>0.104007</td>\n",
       "      <td>0.051363</td>\n",
       "      <td>0.958549</td>\n",
       "      <td>0.915193</td>\n",
       "      <td>0.111690</td>\n",
       "      <td>0.078766</td>\n",
       "    </tr>\n",
       "  </tbody>\n",
       "</table>\n",
       "<p>3743 rows × 21 columns</p>\n",
       "</div>"
      ],
      "text/plain": [
       "             isbn13      isbn10                      title  \\\n",
       "0     9780002005883  0002005883                     Gilead   \n",
       "1     9780006178736  0006178731             Rage of angels   \n",
       "2     9780006482079  0006482074        Warhost of Vastmark   \n",
       "3     9780006646006  000664600X         Ocean Star Express   \n",
       "4     9780007121014  0007121016         Taken at the Flood   \n",
       "...             ...         ...                        ...   \n",
       "3738  9781933648279  1933648279  Night Has a Thousand Eyes   \n",
       "3739  9784770028969  4770028962         Coin Locker Babies   \n",
       "3740  9788122200850  8122200850           Cry, the Peacock   \n",
       "3741  9788185300535  8185300534                  I Am that   \n",
       "3742  9789027712059  9027712050   The Berlin Phenomenology   \n",
       "\n",
       "                                           authors        categories  \\\n",
       "0                               Marilynne Robinson           Fiction   \n",
       "1                                   Sidney Sheldon           Fiction   \n",
       "2                                      Janny Wurts           Fiction   \n",
       "3                         Mark Haddon;Peter Sutton  Juvenile Fiction   \n",
       "4                                  Agatha Christie           Fiction   \n",
       "...                                            ...               ...   \n",
       "3738                              Cornell Woolrich           Fiction   \n",
       "3739                                           村上龍           Fiction   \n",
       "3740                                   Anita Desai           Fiction   \n",
       "3741  Sri Nisargadatta Maharaj;Sudhakar S. Dikshit        Philosophy   \n",
       "3742                 Georg Wilhelm Friedrich Hegel           History   \n",
       "\n",
       "                                              thumbnail  \\\n",
       "0     http://books.google.com/books/content?id=KQZCP...   \n",
       "1     http://books.google.com/books/content?id=FKo2T...   \n",
       "2     http://books.google.com/books/content?id=uOL0f...   \n",
       "3     http://books.google.com/books/content?id=I2QZA...   \n",
       "4     http://books.google.com/books/content?id=3gWlx...   \n",
       "...                                                 ...   \n",
       "3738  http://books.google.com/books/content?id=3Gk6s...   \n",
       "3739  http://books.google.com/books/content?id=87DJw...   \n",
       "3740  http://books.google.com/books/content?id=_QKwV...   \n",
       "3741  http://books.google.com/books/content?id=Fv_JP...   \n",
       "3742  http://books.google.com/books/content?id=Vy7Sk...   \n",
       "\n",
       "                                            description  published_year  \\\n",
       "0     A NOVEL THAT READERS and critics have been eag...          2004.0   \n",
       "1     A memorable, mesmerizing heroine Jennifer -- b...          1993.0   \n",
       "2     Tricked once more by his wily half-brother, Ly...          1995.0   \n",
       "3     Joe and his parents are enjoying a summer holi...          2002.0   \n",
       "4     A Few Weeks After Marrying An Attractive Young...          2002.0   \n",
       "...                                                 ...             ...   \n",
       "3738  \"Cornell Woolrich's novels define the essence ...          2007.0   \n",
       "3739  Rescued from the lockers in which they were le...          2002.0   \n",
       "3740  This book is the story of a young girl obsesse...          1980.0   \n",
       "3741  This collection of the timeless teachings of o...          1999.0   \n",
       "3742  Since the three volume edition ofHegel's Philo...          1981.0   \n",
       "\n",
       "      average_rating  num_pages  ...  \\\n",
       "0               3.85      247.0  ...   \n",
       "1               3.93      512.0  ...   \n",
       "2               4.03      522.0  ...   \n",
       "3               3.50       32.0  ...   \n",
       "4               3.71      352.0  ...   \n",
       "...              ...        ...  ...   \n",
       "3738            3.77      344.0  ...   \n",
       "3739            3.75      393.0  ...   \n",
       "3740            3.22      218.0  ...   \n",
       "3741            4.51      531.0  ...   \n",
       "3742            0.00      210.0  ...   \n",
       "\n",
       "                                  title_and_subtitle  \\\n",
       "0                                             Gilead   \n",
       "1                                     Rage of angels   \n",
       "2                                Warhost of Vastmark   \n",
       "3                                 Ocean Star Express   \n",
       "4                                 Taken at the Flood   \n",
       "...                                              ...   \n",
       "3738                       Night Has a Thousand Eyes   \n",
       "3739                              Coin Locker Babies   \n",
       "3740                                Cry, the Peacock   \n",
       "3741  I Am that: Talks with Sri Nisargadatta Maharaj   \n",
       "3742                        The Berlin Phenomenology   \n",
       "\n",
       "                                     tagged_description simple_categories  \\\n",
       "0     9780002005883 A NOVEL THAT READERS and critics...           Fiction   \n",
       "1     9780006178736 A memorable, mesmerizing heroine...           Fiction   \n",
       "2     9780006482079 Tricked once more by his wily ha...           Fiction   \n",
       "3     9780006646006 Joe and his parents are enjoying...           Fiction   \n",
       "4     9780007121014 A Few Weeks After Marrying An At...           Fiction   \n",
       "...                                                 ...               ...   \n",
       "3738  9781933648279 \"Cornell Woolrich's novels defin...           Fiction   \n",
       "3739  9784770028969 Rescued from the lockers in whic...           Fiction   \n",
       "3740  9788122200850 This book is the story of a youn...           Fiction   \n",
       "3741  9788185300535 This collection of the timeless ...        Nonfiction   \n",
       "3742  9789027712059 Since the three volume edition o...        Nonfiction   \n",
       "\n",
       "         anger   disgust      fear       joy   sadness  surprise   neutral  \n",
       "0     0.064134  0.273591  0.928169  0.932798  0.646217  0.967158  0.729602  \n",
       "1     0.064134  0.104007  0.972321  0.767237  0.549477  0.111690  0.078766  \n",
       "2     0.300669  0.279481  0.915524  0.040564  0.840290  0.354460  0.135614  \n",
       "3     0.066833  0.104007  0.051363  0.974893  0.779425  0.888799  0.288304  \n",
       "4     0.073248  0.025495  0.572761  0.040787  0.183826  0.937860  0.105170  \n",
       "...        ...       ...       ...       ...       ...       ...       ...  \n",
       "3738  0.042557  0.087105  0.940994  0.152235  0.847774  0.611608  0.115628  \n",
       "3739  0.956607  0.104007  0.051363  0.040564  0.549477  0.111690  0.078766  \n",
       "3740  0.541744  0.226291  0.305921  0.040564  0.594005  0.111690  0.078766  \n",
       "3741  0.064134  0.104007  0.459269  0.759456  0.951104  0.368111  0.078766  \n",
       "3742  0.064134  0.104007  0.051363  0.958549  0.915193  0.111690  0.078766  \n",
       "\n",
       "[3743 rows x 21 columns]"
      ]
     },
     "execution_count": 19,
     "metadata": {},
     "output_type": "execute_result"
    }
   ],
   "source": [
    "df"
   ]
  },
  {
   "cell_type": "code",
   "execution_count": 21,
   "metadata": {},
   "outputs": [],
   "source": [
    "df.to_csv(\"dataset/full_emo_books.csv\", index = False)"
   ]
  },
  {
   "cell_type": "code",
   "execution_count": null,
   "metadata": {},
   "outputs": [],
   "source": []
  },
  {
   "cell_type": "code",
   "execution_count": null,
   "metadata": {},
   "outputs": [],
   "source": []
  },
  {
   "cell_type": "code",
   "execution_count": null,
   "metadata": {},
   "outputs": [],
   "source": []
  },
  {
   "cell_type": "code",
   "execution_count": null,
   "metadata": {},
   "outputs": [],
   "source": []
  },
  {
   "cell_type": "code",
   "execution_count": null,
   "metadata": {},
   "outputs": [],
   "source": []
  },
  {
   "cell_type": "code",
   "execution_count": null,
   "metadata": {},
   "outputs": [],
   "source": []
  }
 ],
 "metadata": {
  "kernelspec": {
   "display_name": "venv",
   "language": "python",
   "name": "python3"
  },
  "language_info": {
   "codemirror_mode": {
    "name": "ipython",
    "version": 3
   },
   "file_extension": ".py",
   "mimetype": "text/x-python",
   "name": "python",
   "nbconvert_exporter": "python",
   "pygments_lexer": "ipython3",
   "version": "3.10.12"
  }
 },
 "nbformat": 4,
 "nbformat_minor": 2
}
